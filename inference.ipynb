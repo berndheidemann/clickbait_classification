{
 "cells": [
  {
   "cell_type": "code",
   "execution_count": 11,
   "metadata": {},
   "outputs": [],
   "source": [
    "# load huggingface checkpoint and run inference on test set\n",
    "\n",
    "from transformers import AutoModelForSequenceClassification, TrainingArguments, Trainer\n",
    "\n",
    "model = AutoModelForSequenceClassification.from_pretrained(\"my_awesome_model/checkpoint-3200\")"
   ]
  },
  {
   "cell_type": "code",
   "execution_count": 12,
   "metadata": {},
   "outputs": [],
   "source": [
    "# Clickbait-Titel\n",
    "clickbait_titles = [\n",
    "    \"You won't believe what happened next!\",\n",
    "    \"Shocking secrets revealed about celebrities!\",\n",
    "    \"10 life hacks that will change your life forever!\",\n",
    "    \"This one weird trick will make you rich overnight!\",\n",
    "    \"The truth behind viral internet sensations!\",\n",
    "    \"Is this the end of the world? Find out now!\",\n",
    "    \"Meet the most adorable puppies in the world!\",\n",
    "    \"Unbelievable before-and-after weight loss transformations!\",\n",
    "    \"What they don't want you to know about [celebrity]!\",\n",
    "    \"Incredible footage of a real-life UFO sighting!\",\n",
    "    \"Can you guess what happened next?!\",\n",
    "    \"10 signs you're in a toxic relationship – #7 is shocking!\",\n",
    "    \"How to make money while you sleep – it's possible!\",\n",
    "    \"The ultimate guide to becoming a social media influencer!\",\n",
    "    \"This simple trick will make you look 10 years younger!\",\n",
    "    \"You'll never guess what happened at the Oscars!\",\n",
    "    \"Discover the secret recipe for the world's best chocolate cake!\",\n",
    "    \"10 bizarre creatures found in the depths of the ocean!\",\n",
    "    \"Is this the future of technology? Mind-blowing innovations!\",\n",
    "    \"The 5-minute workout that burns fat like crazy!\",\n",
    "    \"The shocking truth about fast food – you won't eat it again!\",\n",
    "    \"Are aliens among us? Startling evidence revealed!\",\n",
    "    \"This product will change the way you clean forever!\",\n",
    "    \"10 things your cat is trying to tell you – #3 is a revelation!\",\n",
    "    \"Amazing deals you can't afford to miss – limited time only!\",\n",
    "    \"Unlock the secrets to a happy and successful life!\",\n",
    "    \"Is this the most dangerous job in the world? Watch now!\",\n",
    "    \"The mystery of the Bermuda Triangle – finally solved?\",\n",
    "    \"You won't believe what this 90-year-old can do!\",\n",
    "    \"The ultimate guide to winning the lottery – it works!\"\n",
    "]\n",
    "\n",
    "# Nicht-Clickbait-Titel\n",
    "non_clickbait_titles = [\n",
    "    \"A guide to effective time management techniques.\",\n",
    "    \"Exploring the history of the Industrial Revolution.\",\n",
    "    \"Understanding the principles of organic chemistry.\",\n",
    "    \"How to improve your programming skills in Python.\",\n",
    "    \"The benefits of regular exercise for your health.\",\n",
    "    \"An analysis of climate change and its effects.\",\n",
    "    \"The importance of a balanced diet for your well-being.\",\n",
    "    \"Exploring the works of Shakespeare: A literary journey.\",\n",
    "    \"The impact of renewable energy on the environment.\",\n",
    "    \"A step-by-step guide to starting a small business.\",\n",
    "    \"The history and culture of ancient civilizations.\",\n",
    "    \"Tips for maintaining a healthy work-life balance.\",\n",
    "    \"Understanding the theory of relativity in physics.\",\n",
    "    \"The role of art in society and cultural expression.\",\n",
    "    \"Exploring the wonders of the natural world.\",\n",
    "    \"How to build strong and lasting relationships.\",\n",
    "    \"An overview of the political system in the United States.\",\n",
    "    \"The process of creating a beautiful garden.\",\n",
    "    \"The benefits of mindfulness meditation for stress relief.\",\n",
    "    \"A guide to proper financial planning and budgeting.\",\n",
    "    \"Exploring the world of classical music composers.\",\n",
    "    \"The impact of literature on society and imagination.\",\n",
    "    \"Tips for safe and responsible driving on the road.\",\n",
    "    \"Understanding the principles of sustainable agriculture.\",\n",
    "    \"The history and evolution of computer technology.\",\n",
    "    \"An overview of famous landmarks around the world.\",\n",
    "    \"How to make delicious and nutritious homemade meals.\",\n",
    "    \"The importance of education in personal growth.\",\n",
    "    \"A guide to effective problem-solving strategies.\",\n",
    "    \"The benefits of volunteering and giving back to your community.\"\n",
    "]\n",
    "\n",
    "\n",
    "\n"
   ]
  },
  {
   "cell_type": "code",
   "execution_count": 13,
   "metadata": {},
   "outputs": [],
   "source": [
    "from transformers import AutoTokenizer\n",
    "\n",
    "tokenizer = AutoTokenizer.from_pretrained(\"my_awesome_model/checkpoint-3200\")"
   ]
  },
  {
   "cell_type": "code",
   "execution_count": 23,
   "metadata": {},
   "outputs": [
    {
     "name": "stdout",
     "output_type": "stream",
     "text": [
      "POSITIVE\n",
      "POSITIVE\n",
      "POSITIVE\n",
      "POSITIVE\n",
      "POSITIVE\n",
      "NEGATIVE\n",
      "POSITIVE\n",
      "POSITIVE\n",
      "POSITIVE\n",
      "POSITIVE\n",
      "POSITIVE\n",
      "POSITIVE\n",
      "POSITIVE\n",
      "POSITIVE\n",
      "POSITIVE\n",
      "POSITIVE\n",
      "POSITIVE\n",
      "POSITIVE\n",
      "NEGATIVE\n",
      "POSITIVE\n",
      "POSITIVE\n",
      "NEGATIVE\n",
      "POSITIVE\n",
      "POSITIVE\n",
      "POSITIVE\n",
      "POSITIVE\n",
      "NEGATIVE\n",
      "NEGATIVE\n",
      "POSITIVE\n",
      "POSITIVE\n"
     ]
    }
   ],
   "source": [
    "import torch\n",
    "from transformers import AutoModelForSequenceClassification\n",
    "\n",
    "for i in range(len(clickbait_titles)):\n",
    "    input = tokenizer(clickbait_titles[i], return_tensors=\"pt\")\n",
    "    with torch.no_grad():\n",
    "        logits = model(input[\"input_ids\"], input[\"attention_mask\"]).logits     \n",
    "    predicted_class_id = logits.argmax().item()\n",
    "    print(model.config.id2label[predicted_class_id])"
   ]
  },
  {
   "cell_type": "markdown",
   "metadata": {},
   "source": []
  },
  {
   "cell_type": "code",
   "execution_count": 15,
   "metadata": {},
   "outputs": [
    {
     "data": {
      "text/plain": [
       "'POSITIVE'"
      ]
     },
     "execution_count": 15,
     "metadata": {},
     "output_type": "execute_result"
    }
   ],
   "source": [
    "predicted_class_id = logits.argmax().item()\n",
    "model.config.id2label[predicted_class_id]"
   ]
  },
  {
   "cell_type": "code",
   "execution_count": null,
   "metadata": {},
   "outputs": [],
   "source": []
  }
 ],
 "metadata": {
  "kernelspec": {
   "display_name": "torch_ds",
   "language": "python",
   "name": "python3"
  },
  "language_info": {
   "codemirror_mode": {
    "name": "ipython",
    "version": 3
   },
   "file_extension": ".py",
   "mimetype": "text/x-python",
   "name": "python",
   "nbconvert_exporter": "python",
   "pygments_lexer": "ipython3",
   "version": "3.10.9"
  },
  "orig_nbformat": 4
 },
 "nbformat": 4,
 "nbformat_minor": 2
}
